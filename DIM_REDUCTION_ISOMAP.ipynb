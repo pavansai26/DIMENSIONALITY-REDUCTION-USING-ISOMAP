{
  "nbformat": 4,
  "nbformat_minor": 0,
  "metadata": {
    "colab": {
      "name": "DIM REDUCTION ISOMAP.ipynb",
      "provenance": [],
      "private_outputs": true,
      "authorship_tag": "ABX9TyPeWuDPSHaM5C8UtdmQYWop",
      "include_colab_link": true
    },
    "kernelspec": {
      "name": "python3",
      "display_name": "Python 3"
    },
    "accelerator": "GPU"
  },
  "cells": [
    {
      "cell_type": "markdown",
      "metadata": {
        "id": "view-in-github",
        "colab_type": "text"
      },
      "source": [
        "<a href=\"https://colab.research.google.com/github/pavansai26/DIMENSIONALITY-REDUCTION-USING-ISOMAP/blob/master/DIM_REDUCTION_ISOMAP.ipynb\" target=\"_parent\"><img src=\"https://colab.research.google.com/assets/colab-badge.svg\" alt=\"Open In Colab\"/></a>"
      ]
    },
    {
      "cell_type": "code",
      "metadata": {
        "id": "JhkgEjdw4B_q",
        "colab_type": "code",
        "colab": {}
      },
      "source": [
        "import struct"
      ],
      "execution_count": 0,
      "outputs": []
    },
    {
      "cell_type": "code",
      "metadata": {
        "id": "das9YOVu42wG",
        "colab_type": "code",
        "colab": {}
      },
      "source": [
        "import numpy as np"
      ],
      "execution_count": 0,
      "outputs": []
    },
    {
      "cell_type": "code",
      "metadata": {
        "id": "djcsImhd5Mpt",
        "colab_type": "code",
        "colab": {}
      },
      "source": [
        "import pandas as pd"
      ],
      "execution_count": 0,
      "outputs": []
    },
    {
      "cell_type": "code",
      "metadata": {
        "id": "Asy0AQA55PAA",
        "colab_type": "code",
        "colab": {}
      },
      "source": [
        "from sklearn import manifold"
      ],
      "execution_count": 0,
      "outputs": []
    },
    {
      "cell_type": "code",
      "metadata": {
        "id": "rp4oXTgh5T89",
        "colab_type": "code",
        "colab": {}
      },
      "source": [
        "import matplotlib.pyplot as plt\n"
      ],
      "execution_count": 0,
      "outputs": []
    },
    {
      "cell_type": "code",
      "metadata": {
        "id": "T7DEFZ0U5iLs",
        "colab_type": "code",
        "colab": {}
      },
      "source": [
        "from sklearn.datasets import fetch_openml\n",
        "mnist = fetch_openml('mnist_784')"
      ],
      "execution_count": 0,
      "outputs": []
    },
    {
      "cell_type": "code",
      "metadata": {
        "id": "Qcbx14i78Z40",
        "colab_type": "code",
        "colab": {}
      },
      "source": [
        "x=mnist.data"
      ],
      "execution_count": 0,
      "outputs": []
    },
    {
      "cell_type": "code",
      "metadata": {
        "id": "N6HHr9Az6aLm",
        "colab_type": "code",
        "colab": {}
      },
      "source": [
        "model=manifold.Isomap(n_neighbors=5,n_components=2).fit_transform(x)"
      ],
      "execution_count": 0,
      "outputs": []
    },
    {
      "cell_type": "code",
      "metadata": {
        "id": "YiuN52wg7Q4Z",
        "colab_type": "code",
        "colab": {}
      },
      "source": [
        "plt.scatter(model.iloc[:,0],model.iloc[:,1])"
      ],
      "execution_count": 0,
      "outputs": []
    }
  ]
}